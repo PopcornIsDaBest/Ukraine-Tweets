{
 "cells": [
  {
   "cell_type": "code",
   "execution_count": 59,
   "metadata": {},
   "outputs": [],
   "source": [
    "import tweepy\n",
    "import csv\n",
    "from textblob import TextBlob\n",
    "from wordcloud import WordCloud\n",
    "import pandas as pd\n",
    "import numpy as np \n",
    "import re\n",
    "import matplotlib.pyplot as plt\n",
    "import sklearn\n",
    "plt.style.use('fivethirtyeight')\n"
   ]
  },
  {
   "cell_type": "code",
   "execution_count": 60,
   "metadata": {},
   "outputs": [],
   "source": [
    "file = open(r'C:\\Keziah\\Ukraine Tweets\\filename.csv', encoding=\"utf8\")"
   ]
  },
  {
   "cell_type": "code",
   "execution_count": 61,
   "metadata": {},
   "outputs": [],
   "source": [
    "csvreader = csv.reader(file)"
   ]
  },
  {
   "cell_type": "code",
   "execution_count": 62,
   "metadata": {},
   "outputs": [
    {
     "data": {
      "text/plain": [
       "['id',\n",
       " 'conversation_id',\n",
       " 'created_at',\n",
       " 'date',\n",
       " 'time',\n",
       " 'timezone',\n",
       " 'user_id',\n",
       " 'username',\n",
       " 'name',\n",
       " 'place',\n",
       " 'tweet',\n",
       " 'language',\n",
       " 'mentions',\n",
       " 'urls',\n",
       " 'photos',\n",
       " 'replies_count',\n",
       " 'retweets_count',\n",
       " 'likes_count',\n",
       " 'hashtags',\n",
       " 'cashtags',\n",
       " 'link',\n",
       " 'retweet',\n",
       " 'quote_url',\n",
       " 'video',\n",
       " 'thumbnail',\n",
       " 'near',\n",
       " 'geo',\n",
       " 'source',\n",
       " 'user_rt_id',\n",
       " 'user_rt',\n",
       " 'retweet_id',\n",
       " 'reply_to',\n",
       " 'retweet_date',\n",
       " 'translate',\n",
       " 'trans_src',\n",
       " 'trans_dest']"
      ]
     },
     "execution_count": 62,
     "metadata": {},
     "output_type": "execute_result"
    }
   ],
   "source": [
    "header = []\n",
    "header = next(csvreader)\n",
    "header"
   ]
  }
 ],
 "metadata": {
  "interpreter": {
   "hash": "6b178a6ce61b6c1c75a7d579cf45e01ad19697e142c638f7b302e5c52a5a848c"
  },
  "kernelspec": {
   "display_name": "Python 3.7.7 32-bit",
   "language": "python",
   "name": "python3"
  },
  "language_info": {
   "codemirror_mode": {
    "name": "ipython",
    "version": 3
   },
   "file_extension": ".py",
   "mimetype": "text/x-python",
   "name": "python",
   "nbconvert_exporter": "python",
   "pygments_lexer": "ipython3",
   "version": "3.7.7"
  },
  "orig_nbformat": 4
 },
 "nbformat": 4,
 "nbformat_minor": 2
}
